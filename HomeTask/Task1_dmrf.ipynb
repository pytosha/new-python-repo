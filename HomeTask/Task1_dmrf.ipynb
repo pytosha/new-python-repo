{
 "cells": [
  {
   "cell_type": "markdown",
   "source": [
    "[![Open In Colab](https://colab.research.google.com/assets/colab-badge.svg)](https://colab.research.google.com/github/pytosha/new-python-repo/blob/main/HomeTask/Task1_dmrf.ipynb)"
   ],
   "metadata": {
    "collapsed": false,
    "pycharm": {
     "name": "#%% md\n"
    }
   }
  },
  {
   "cell_type": "markdown",
   "source": [
    "# Задание\n",
    "* Собрать информацию о всех строящихся объектах на сайте \"наш.дом.рф\"\n",
    "* Cохранить ее в pandas dataframe\n",
    "* Cохранить pandas dataframe в pickle\n",
    "* Cохранить pandas dataframe в excel\n",
    "* Cохранить pandas dataframe в БД\n",
    "\n",
    "# Задание посложнее (опциональное, если очень хочется)\n",
    "* Написать скрипт, который скачивает фотографии всех строящихся объектов с сайта \"наш.дом.рф\"\n",
    "\n",
    "# Поправка\n",
    "* В случае если не удается/ не получается / не хочется скачать информацию о всех строящихся объектах на сайте \"наш.дом.рф\", пропустите первые 3 пункта задания. Используйте готовый файл в формате pickle (df_nashfomrf.pkl) и переходите к следующим пунктам\n",
    "\n",
    "* Если не получается скачать данные с помощью библиотеки requests, но есть желание собрать данные с помощью python, то можно воспользоваться библиотекой selenium, которая извлекает информацию из веб-страниц в браузере."
   ],
   "metadata": {
    "collapsed": false,
    "pycharm": {
     "name": "#%% md\n"
    }
   }
  },
  {
   "cell_type": "code",
   "execution_count": 2,
   "outputs": [],
   "source": [
    "import requests"
   ],
   "metadata": {
    "collapsed": false,
    "pycharm": {
     "name": "#%%\n"
    },
    "ExecuteTime": {
     "end_time": "2023-12-07T13:23:41.474486Z",
     "start_time": "2023-12-07T13:23:41.465949Z"
    }
   }
  },
  {
   "cell_type": "markdown",
   "source": [
    "## Шаг 1й - Получение списка объектов"
   ],
   "metadata": {
    "collapsed": false,
    "pycharm": {
     "name": "#%% md\n"
    }
   }
  },
  {
   "cell_type": "code",
   "execution_count": 3,
   "outputs": [
    {
     "data": {
      "text/plain": "{'hobjId': 34754,\n 'objId': 13399,\n 'developer': {'devId': 306,\n  'shortName': '2МЕН ГРУПП',\n  'fullName': '2МЕН ГРУПП',\n  'groupName': '2МЕН ГРУПП ДЕВЕЛОПМЕНТ',\n  'orgForm': {'id': 1, 'fullForm': 'Акционерное общество', 'shortForm': 'АО'},\n  'companyGroup': 5776,\n  'devInn': '7701651356'},\n 'rpdRegionCd': 72,\n 'objAddr': 'г Тюмень, ул Профсоюзная, д. 56',\n 'objFloorMin': 1,\n 'objFloorMax': 1,\n 'objElemLivingCnt': 0,\n 'objReady100PercDt': '2024-12-31',\n 'objSquareLiving': 0.0,\n 'objCompensFundFlg': 0,\n 'objProblemFlg': 0,\n 'latitude': 57.1519,\n 'longitude': 65.5544,\n 'problemFlag': 'NONE',\n 'siteStatus': 'Строящиеся',\n 'objGuarantyEscrowFlg': 0,\n 'residentialBuildings': 0,\n 'rpdNum': '72-000097',\n 'pdId': 28141,\n 'buildType': 'Нежилое',\n 'objStatus': 0,\n 'hobjRenderPhotoUrl': 'https://xn--80az8a.xn--d1aqf.xn--p1ai/api/ext/file/6C6B7A3A589C136AAB8F47F5BDCC02C31E7D0A1E',\n 'objPriceAVG': 50768,\n 'objPublDt': '2019-05-31'}"
     },
     "execution_count": 3,
     "metadata": {},
     "output_type": "execute_result"
    }
   ],
   "source": [
    "# Для скачивания данных\n",
    "\n",
    "offset_ = 1 # размер шага\n",
    "limit_ = 100 # количество объектов в одном ответе api\n",
    "url = f'https://xn--80az8a.xn--d1aqf.xn--p1ai/%D1%81%D0%B5%D1%80%D0%B2%D0%B8%D1%81%D1%8B/api/kn/object?offset={offset_}&limit={limit_}&sortField=devId.devShortCleanNm&sortType=asc&objStatus=0'\n",
    "res = requests.get(url)\n",
    "objects_data = res.json()\n",
    "objects_data.get('data').get('list')[0]"
   ],
   "metadata": {
    "collapsed": false,
    "pycharm": {
     "name": "#%%\n"
    },
    "ExecuteTime": {
     "end_time": "2023-12-07T13:23:43.646382Z",
     "start_time": "2023-12-07T13:23:42.721748Z"
    }
   }
  },
  {
   "cell_type": "code",
   "execution_count": 14,
   "outputs": [],
   "source": [
    "objects_list = objects_data.get('data').get('list')\n",
    "objids = [x.get('objId') for x in objects_list]\n",
    "objids[:10]"
   ],
   "metadata": {
    "collapsed": false,
    "pycharm": {
     "name": "#%%\n"
    }
   }
  },
  {
   "cell_type": "markdown",
   "source": [
    "# Данные по определенному объекту"
   ],
   "metadata": {
    "collapsed": false,
    "pycharm": {
     "name": "#%% md\n"
    }
   }
  },
  {
   "cell_type": "code",
   "execution_count": 18,
   "outputs": [],
   "source": [
    "# Для скачивания данных по определенному объекту, нужно добавить его id в конец строки запроса\n",
    "url = f'https://xn--80az8a.xn--d1aqf.xn--p1ai/%D1%81%D0%B5%D1%80%D0%B2%D0%B8%D1%81%D1%8B/api/object/29679'"
   ],
   "metadata": {
    "collapsed": false,
    "pycharm": {
     "name": "#%%\n"
    }
   }
  },
  {
   "cell_type": "code",
   "execution_count": 20,
   "outputs": [
    {
     "data": {
      "text/plain": "{'data': {'id': 29679,\n  'pdId': 124647,\n  'developer': {'devId': 7424,\n   'devShortCleanNm': '212-2',\n   'devShortNm': '212-2',\n   'devFullCleanNm': '212-2',\n   'problObjCnt': 0,\n   'buildObjCnt': 2,\n   'comissObjCnt': 0,\n   'regRegionDesc': 'Ростовская область',\n   'devPhoneNum': '+7(961)285-90-10',\n   'devSite': 'taganrogjsk.wixsite.com',\n   'devEmail': 'kirpol76@gmail.com',\n   'devInn': '6154572922',\n   'devOgrn': '1116154005923',\n   'devKpp': '615401001',\n   'devLegalAddr': 'Ростовская область, город Таганрог, улица Свободы/Трудовых резервов дом 25/9',\n   'devFactAddr': 'обл Ростовская город Таганрог улица Сергея Шило д. 212-2',\n   'lastRpdId': 126093,\n   'fundGuarantyFlg': 0,\n   'devOrgRegRegionCd': 61,\n   'devEmplMainFullNm': 'Снимщикова Ольга Викторовна',\n   'orgForm': {'id': 20,\n    'fullForm': 'Жилищный или жилищно-строительный кооператив',\n    'shortForm': 'ЖСК'},\n   'objGuarantyEscrowFlg': 0,\n   'govFundFlg': 0},\n  'region': 61,\n  'address': 'г Таганрог',\n  'objElemLivingCnt': 18,\n  'objReady100PercDt': '2020-03-31',\n  'wallMaterialShortDesc': 'Другое',\n  'objLkFinishTypeDesc': 'Под ключ',\n  'objLkFreePlanDesc': 'Есть',\n  'objElemParkingCnt': 0,\n  'objSquareLiving': 1519.0,\n  'rpdNum': '61-000818',\n  'rpdPdfLink': 'https://xn--80az8a.xn--d1aqf.xn--p1ai/api/ext/file/092af1ad-2b49-4150-8a92-293031e2f79a',\n  'rpdIssueDttm': '20-03-2019 18:41',\n  'objLkLatitude': '47.2238',\n  'objLkLongitude': '38.8513',\n  'objCompensFundFlg': 0,\n  'objProblemFlg': 0,\n  'objLkClassDesc': 'Комфорт',\n  'loadDttm': '11-08-2022 01:23',\n  'photoRenderDTO': [],\n  'objGuarantyEscrowFlg': 0,\n  'objectType': 'normal',\n  'residentialBuildings': 1,\n  'newBuildingId': 40800,\n  'objFlatCnt': 18,\n  'objFlatSq': '1519.0',\n  'objNonlivElemCnt': 0,\n  'objStatus': 0,\n  'isAvailableWantLiveHere': True,\n  'objInfrstrBicycleLaneFlg': 0,\n  'objInfrstrRampFlg': 0,\n  'objInfrstrCurbLoweringFlg': 0,\n  'objectTransportInfo': [],\n  'conclusion': False,\n  'objGreenHouseFlg': 0,\n  'objEnergyEffShortDesc': 'Не нормируется',\n  'infrastructureIndexValue': 7},\n 'errcode': '0'}"
     },
     "execution_count": 20,
     "metadata": {},
     "output_type": "execute_result"
    }
   ],
   "source": [
    "res = requests.get(url)\n",
    "res.json()"
   ],
   "metadata": {
    "collapsed": false,
    "pycharm": {
     "name": "#%%\n"
    }
   }
  },
  {
   "cell_type": "code",
   "execution_count": 33,
   "outputs": [],
   "source": [
    "# import pandas as pd"
   ],
   "metadata": {
    "collapsed": false,
    "pycharm": {
     "name": "#%%\n"
    }
   }
  },
  {
   "cell_type": "code",
   "execution_count": null,
   "outputs": [],
   "source": [],
   "metadata": {
    "collapsed": false,
    "pycharm": {
     "name": "#%%\n"
    }
   }
  }
 ],
 "metadata": {
  "kernelspec": {
   "display_name": "Python 3",
   "language": "python",
   "name": "python3"
  },
  "language_info": {
   "codemirror_mode": {
    "name": "ipython",
    "version": 2
   },
   "file_extension": ".py",
   "mimetype": "text/x-python",
   "name": "python",
   "nbconvert_exporter": "python",
   "pygments_lexer": "ipython2",
   "version": "2.7.6"
  }
 },
 "nbformat": 4,
 "nbformat_minor": 0
}
