{
 "cells": [
  {
   "cell_type": "markdown",
   "source": [
    "[![Open In Colab](https://colab.research.google.com/assets/colab-badge.svg)](https://colab.research.google.com/github/pytosha/new-python-repo/blob/main/HomeTask/HH-api.ipynb)"
   ],
   "metadata": {
    "collapsed": false
   }
  },
  {
   "cell_type": "code",
   "execution_count": 1,
   "outputs": [],
   "source": [
    "# Задание вытащить все вакансии СБЕРа с ХХ\n",
    "# Вытащите все описания этих вакансий\n",
    "# Создайте DataFrame только добавьте поле skills\n",
    "# Переведите даты публикаций в datetime\n",
    "# Постройте график опубликованных вакансий по датам\n",
    "# Переведите даты в дни недели, и определите день недели, в который больше всего публикуют вакансий\n",
    "# Найдите вакансии с использованием python\n",
    "# Определите по полю skills какие навыки больше всего востребованы для этих вакансий, и\n",
    "# Постройте график наиболее востребованных навыков"
   ],
   "metadata": {
    "collapsed": false,
    "ExecuteTime": {
     "end_time": "2023-12-18T11:04:37.540728Z",
     "start_time": "2023-12-18T11:04:37.535771Z"
    }
   }
  },
  {
   "cell_type": "code",
   "execution_count": null,
   "outputs": [],
   "source": [],
   "metadata": {
    "collapsed": false
   }
  },
  {
   "cell_type": "code",
   "execution_count": 17,
   "outputs": [],
   "source": [
    "import requests\n",
    "from tqdm.auto import tqdm\n",
    "from collections import defaultdict\n",
    "import pandas as pd"
   ],
   "metadata": {
    "collapsed": false,
    "pycharm": {
     "name": "#%%\n"
    }
   }
  },
  {
   "cell_type": "code",
   "execution_count": 18,
   "outputs": [],
   "source": [
    "sber = '3529'\n",
    "page = 1\n",
    "num_per_page = 100\n",
    "moscow = 1\n",
    "url = f'https://api.hh.ru/vacancies?employer_id={sber}&page={page}&per_page={num_per_page}&area={moscow}'\n",
    "res = requests.get(url)\n",
    "vacancies = res.json()\n",
    "num_pages = vacancies.get('pages')\n",
    "num_pages\n",
    "vacancies = res.json()\n",
    "num_pages = vacancies.get('pages')\n",
    "vacancy_ids = [el.get('id') for el in vacancies.get('items')]\n",
    "all_vacancy_ids= []\n",
    "for i in tqdm(range(num_pages)):\n",
    "    url = f'https://api.hh.ru/vacancies?employer_id={sber}&page={i}&per_page={num_per_page}&area={moscow}'\n",
    "    res = requests.get(url)\n",
    "    vacancies = res.json()\n",
    "    vacancy_ids = [el.get('id') for el in vacancies.get('items')]\n",
    "    all_vacancy_ids.extend(vacancy_ids)"
   ],
   "metadata": {
    "collapsed": false,
    "pycharm": {
     "name": "#%%\n"
    }
   }
  },
  {
   "cell_type": "code",
   "execution_count": 26,
   "outputs": [
    {
     "data": {
      "text/plain": "1141"
     },
     "execution_count": 26,
     "metadata": {},
     "output_type": "execute_result"
    }
   ],
   "source": [
    "len(all_vacancy_ids)"
   ],
   "metadata": {
    "collapsed": false,
    "pycharm": {
     "name": "#%%\n"
    }
   }
  },
  {
   "cell_type": "code",
   "execution_count": 27,
   "outputs": [],
   "source": [],
   "metadata": {
    "collapsed": false,
    "pycharm": {
     "name": "#%%\n"
    }
   }
  },
  {
   "cell_type": "code",
   "execution_count": 15,
   "outputs": [],
   "source": [
    "vac_id = 43326020\n",
    "url = f'https://api.hh.ru/vacancies/{vac_id}'\n",
    "res = requests.get(url)\n",
    "vacancy = res.json()\n"
   ],
   "metadata": {
    "collapsed": false,
    "pycharm": {
     "name": "#%%\n"
    }
   }
  },
  {
   "cell_type": "code",
   "execution_count": 27,
   "outputs": [],
   "source": [],
   "metadata": {
    "collapsed": false,
    "pycharm": {
     "name": "#%%\n"
    }
   }
  },
  {
   "cell_type": "code",
   "execution_count": 28,
   "outputs": [
    {
     "data": {
      "text/plain": "  0%|          | 0/1141 [00:00<?, ?it/s]",
      "application/vnd.jupyter.widget-view+json": {
       "version_major": 2,
       "version_minor": 0,
       "model_id": "d3d6e39c877c45709bd15ef21b3bd8a8"
      }
     },
     "metadata": {},
     "output_type": "display_data"
    }
   ],
   "source": [
    "tabdict = defaultdict(list)\n",
    "for vac_id in tqdm(all_vacancy_ids):\n",
    "    url = f'https://api.hh.ru/vacancies/{vac_id}'\n",
    "    res = requests.get(url)\n",
    "    vacancy = res.json()\n",
    "    tabdict['id'].append(vacancy.get('id'))\n",
    "    tabdict['name'].append(vacancy.get('name'))\n",
    "    tabdict['description'].append(vacancy.get('description'))\n",
    "    tabdict['skills'].append(vacancy.get('key_skills'))\n",
    "    tabdict['published_at'].append(vacancy.get('published_at'))\n"
   ],
   "metadata": {
    "collapsed": false,
    "pycharm": {
     "name": "#%%\n"
    }
   }
  },
  {
   "cell_type": "code",
   "execution_count": null,
   "outputs": [],
   "source": [
    "sk = tabdict.get('skills')\n",
    "tabdict['skills'] = [','.join([y.get('name') for y in x]) for x in sk]"
   ],
   "metadata": {
    "collapsed": false,
    "pycharm": {
     "name": "#%%\n",
     "is_executing": true
    }
   }
  },
  {
   "cell_type": "code",
   "execution_count": 32,
   "metadata": {
    "pycharm": {
     "name": "#%%\n"
    }
   },
   "outputs": [],
   "source": [
    "df = pd.DataFrame(tabdict)"
   ]
  },
  {
   "cell_type": "code",
   "execution_count": 33,
   "outputs": [
    {
     "data": {
      "text/plain": "         id                                               name  \\\n0  55415805                     Менеджер по работе с клиентами   \n1  69355530                             Финансовый консультант   \n2  45381514     Менеджер по привлечению корпоративных клиентов   \n3  45790891  Менеджер по работе с ключевыми клиентами малог...   \n4  69957849        Стажёр в отдел документооборота SberDevices   \n\n                                         description  \\\n0  <p>Сбер — лучший работодатель России. У нас бо...   \n1  <p>Сбер — лучший работодатель России. У нас бо...   \n2  <p>Сбер — лучший работодатель России. У нас бо...   \n3  <p>Сбер — лучший работодатель России. У нас бо...   \n4  <p>Цифровые поверхности Салют (SberDevices) — ...   \n\n                                              skills              published_at  \n0                                                 []  2022-09-07T13:55:11+0300  \n1                                                 []  2022-09-05T11:25:49+0300  \n2  [{'name': 'Холодные продажи'}, {'name': 'Поиск...  2022-09-01T14:20:50+0300  \n3  [{'name': 'Прямые продажи'}, {'name': 'Финансо...  2022-09-13T09:25:39+0300  \n4  [{'name': 'Работа с большим объемом информации...  2022-09-19T11:20:47+0300  ",
      "text/html": "<div>\n<style scoped>\n    .dataframe tbody tr th:only-of-type {\n        vertical-align: middle;\n    }\n\n    .dataframe tbody tr th {\n        vertical-align: top;\n    }\n\n    .dataframe thead th {\n        text-align: right;\n    }\n</style>\n<table border=\"1\" class=\"dataframe\">\n  <thead>\n    <tr style=\"text-align: right;\">\n      <th></th>\n      <th>id</th>\n      <th>name</th>\n      <th>description</th>\n      <th>skills</th>\n      <th>published_at</th>\n    </tr>\n  </thead>\n  <tbody>\n    <tr>\n      <th>0</th>\n      <td>55415805</td>\n      <td>Менеджер по работе с клиентами</td>\n      <td>&lt;p&gt;Сбер — лучший работодатель России. У нас бо...</td>\n      <td>[]</td>\n      <td>2022-09-07T13:55:11+0300</td>\n    </tr>\n    <tr>\n      <th>1</th>\n      <td>69355530</td>\n      <td>Финансовый консультант</td>\n      <td>&lt;p&gt;Сбер — лучший работодатель России. У нас бо...</td>\n      <td>[]</td>\n      <td>2022-09-05T11:25:49+0300</td>\n    </tr>\n    <tr>\n      <th>2</th>\n      <td>45381514</td>\n      <td>Менеджер по привлечению корпоративных клиентов</td>\n      <td>&lt;p&gt;Сбер — лучший работодатель России. У нас бо...</td>\n      <td>[{'name': 'Холодные продажи'}, {'name': 'Поиск...</td>\n      <td>2022-09-01T14:20:50+0300</td>\n    </tr>\n    <tr>\n      <th>3</th>\n      <td>45790891</td>\n      <td>Менеджер по работе с ключевыми клиентами малог...</td>\n      <td>&lt;p&gt;Сбер — лучший работодатель России. У нас бо...</td>\n      <td>[{'name': 'Прямые продажи'}, {'name': 'Финансо...</td>\n      <td>2022-09-13T09:25:39+0300</td>\n    </tr>\n    <tr>\n      <th>4</th>\n      <td>69957849</td>\n      <td>Стажёр в отдел документооборота SberDevices</td>\n      <td>&lt;p&gt;Цифровые поверхности Салют (SberDevices) — ...</td>\n      <td>[{'name': 'Работа с большим объемом информации...</td>\n      <td>2022-09-19T11:20:47+0300</td>\n    </tr>\n  </tbody>\n</table>\n</div>"
     },
     "execution_count": 33,
     "metadata": {},
     "output_type": "execute_result"
    }
   ],
   "source": [
    "df.head()"
   ],
   "metadata": {
    "collapsed": false,
    "pycharm": {
     "name": "#%%\n"
    }
   }
  },
  {
   "cell_type": "code",
   "execution_count": 37,
   "metadata": {
    "pycharm": {
     "name": "#%%\n"
    }
   },
   "outputs": [],
   "source": [
    "class VacancyLoader:\n",
    "    def __init__(self):\n",
    "        self.vacancy_df = None\n",
    "        self.vacancies_ids = []\n",
    "        self.sber = '3529'\n",
    "        self.page = 1\n",
    "        self.num_per_page = 100\n",
    "        self.moscow = 1\n",
    "        self.tabdict = defaultdict(list)\n",
    "\n",
    "    def get_ids(self):\n",
    "        url = f'https://api.hh.ru/vacancies?employer_id={self.sber}&page={self.page}&per_page={self.num_per_page}&area={self.moscow}'\n",
    "        res = requests.get(url)\n",
    "        vacancies = res.json()\n",
    "        num_pages = vacancies.get('pages')\n",
    "        for i in tqdm(range(num_pages)):\n",
    "            url = f'https://api.hh.ru/vacancies?employer_id={sber}&page={i}&per_page={num_per_page}&area={moscow}'\n",
    "            res = requests.get(url)\n",
    "            vacancies = res.json()\n",
    "            vacancy_ids = [el.get('id') for el in vacancies.get('items')]\n",
    "            self.vacancies_ids.extend(vacancy_ids)\n",
    "        print(\"ID вакансий собраны!\")\n",
    "\n",
    "    def get_vacancies(self):\n",
    "\n",
    "        for vac_id in tqdm(self.vacancies_ids):\n",
    "            url = f'https://api.hh.ru/vacancies/{vac_id}'\n",
    "            res = requests.get(url)\n",
    "            vacancy = res.json()\n",
    "            self.tabdict['id'].append(vacancy.get('id'))\n",
    "            self.tabdict['name'].append(vacancy.get('name'))\n",
    "            self.tabdict['description'].append(vacancy.get('description'))\n",
    "            self.tabdict['skills'].append(vacancy.get('key_skills'))\n",
    "            self.tabdict['published_at'].append(vacancy.get('published_at'))\n",
    "        print(\"Вакансии собраны в словарь\")\n",
    "\n",
    "    def make_vacancy_dataframe(self):\n",
    "        print(\"Создан DataFrame\")\n",
    "        return pd.DataFrame(self.tabdict)\n",
    "\n",
    "    def get_df_with_vacancies(self):\n",
    "        self.get_ids()\n",
    "        self.get_vacancies()\n",
    "        self.vacancy_df = self.make_vacancy_dataframe()\n",
    "        return self.vacancy_df"
   ]
  },
  {
   "cell_type": "code",
   "execution_count": 39,
   "outputs": [
    {
     "data": {
      "text/plain": "  0%|          | 0/12 [00:00<?, ?it/s]",
      "application/vnd.jupyter.widget-view+json": {
       "version_major": 2,
       "version_minor": 0,
       "model_id": "189232c51640495ebe143a27ade7c88f"
      }
     },
     "metadata": {},
     "output_type": "display_data"
    },
    {
     "name": "stdout",
     "output_type": "stream",
     "text": [
      "ID вакансий собраны!\n"
     ]
    },
    {
     "data": {
      "text/plain": "  0%|          | 0/1141 [00:00<?, ?it/s]",
      "application/vnd.jupyter.widget-view+json": {
       "version_major": 2,
       "version_minor": 0,
       "model_id": "d2ae5f69dfeb46dfb5e6fbf76952e3b5"
      }
     },
     "metadata": {},
     "output_type": "display_data"
    },
    {
     "name": "stdout",
     "output_type": "stream",
     "text": [
      "Вакансии собраны в словарь\n",
      "Создан DataFrame\n"
     ]
    }
   ],
   "source": [
    "vac_loader = VacancyLoader()\n",
    "vdf = vac_loader.get_df_with_vacancies()"
   ],
   "metadata": {
    "collapsed": false,
    "pycharm": {
     "name": "#%%\n"
    }
   }
  },
  {
   "cell_type": "code",
   "execution_count": 40,
   "outputs": [
    {
     "data": {
      "text/plain": "            id                                               name  \\\n0     55415805                     Менеджер по работе с клиентами   \n1     69355530                             Финансовый консультант   \n2     45381514     Менеджер по привлечению корпоративных клиентов   \n3     45790891  Менеджер по работе с ключевыми клиентами малог...   \n4     69957849        Стажёр в отдел документооборота SberDevices   \n...        ...                                                ...   \n1136  68787347                        Старший клиентский менеджер   \n1137  67799537                  Клиентский менеджер прямых продаж   \n1138  67799534                  Клиентский менеджер прямых продаж   \n1139  69364984                  Клиентский менеджер прямых продаж   \n1140  67799535                  Клиентский менеджер прямых продаж   \n\n                                            description  \\\n0     <p>Сбер — лучший работодатель России. У нас бо...   \n1     <p>Сбер — лучший работодатель России. У нас бо...   \n2     <p>Сбер — лучший работодатель России. У нас бо...   \n3     <p>Сбер — лучший работодатель России. У нас бо...   \n4     <p>Цифровые поверхности Салют (SberDevices) — ...   \n...                                                 ...   \n1136  <p>Сбер — лучший работодатель России. У нас бо...   \n1137  <p>Сбер — лучший работодатель России. У нас бо...   \n1138  <p>Сбер — лучший работодатель России. У нас бо...   \n1139  <p>Сбер — лучший работодатель России. У нас бо...   \n1140  <p>Сбер — лучший работодатель России. У нас бо...   \n\n                                                 skills  \\\n0                                                    []   \n1                                                    []   \n2     [{'name': 'Холодные продажи'}, {'name': 'Поиск...   \n3     [{'name': 'Прямые продажи'}, {'name': 'Финансо...   \n4     [{'name': 'Работа с большим объемом информации...   \n...                                                 ...   \n1136  [{'name': 'Деловая переписка'}, {'name': 'Дело...   \n1137  [{'name': 'Проведение презентаций'}, {'name': ...   \n1138  [{'name': 'Проведение презентаций'}, {'name': ...   \n1139  [{'name': 'Проведение презентаций'}, {'name': ...   \n1140  [{'name': 'Проведение презентаций'}, {'name': ...   \n\n                  published_at  \n0     2022-09-07T13:55:11+0300  \n1     2022-09-05T11:25:49+0300  \n2     2022-09-01T14:20:50+0300  \n3     2022-09-13T09:25:39+0300  \n4     2022-09-19T11:20:47+0300  \n...                        ...  \n1136  2022-09-19T09:10:17+0300  \n1137  2022-09-19T09:11:17+0300  \n1138  2022-09-19T09:11:16+0300  \n1139  2022-09-19T09:09:11+0300  \n1140  2022-09-19T09:11:16+0300  \n\n[1141 rows x 5 columns]",
      "text/html": "<div>\n<style scoped>\n    .dataframe tbody tr th:only-of-type {\n        vertical-align: middle;\n    }\n\n    .dataframe tbody tr th {\n        vertical-align: top;\n    }\n\n    .dataframe thead th {\n        text-align: right;\n    }\n</style>\n<table border=\"1\" class=\"dataframe\">\n  <thead>\n    <tr style=\"text-align: right;\">\n      <th></th>\n      <th>id</th>\n      <th>name</th>\n      <th>description</th>\n      <th>skills</th>\n      <th>published_at</th>\n    </tr>\n  </thead>\n  <tbody>\n    <tr>\n      <th>0</th>\n      <td>55415805</td>\n      <td>Менеджер по работе с клиентами</td>\n      <td>&lt;p&gt;Сбер — лучший работодатель России. У нас бо...</td>\n      <td>[]</td>\n      <td>2022-09-07T13:55:11+0300</td>\n    </tr>\n    <tr>\n      <th>1</th>\n      <td>69355530</td>\n      <td>Финансовый консультант</td>\n      <td>&lt;p&gt;Сбер — лучший работодатель России. У нас бо...</td>\n      <td>[]</td>\n      <td>2022-09-05T11:25:49+0300</td>\n    </tr>\n    <tr>\n      <th>2</th>\n      <td>45381514</td>\n      <td>Менеджер по привлечению корпоративных клиентов</td>\n      <td>&lt;p&gt;Сбер — лучший работодатель России. У нас бо...</td>\n      <td>[{'name': 'Холодные продажи'}, {'name': 'Поиск...</td>\n      <td>2022-09-01T14:20:50+0300</td>\n    </tr>\n    <tr>\n      <th>3</th>\n      <td>45790891</td>\n      <td>Менеджер по работе с ключевыми клиентами малог...</td>\n      <td>&lt;p&gt;Сбер — лучший работодатель России. У нас бо...</td>\n      <td>[{'name': 'Прямые продажи'}, {'name': 'Финансо...</td>\n      <td>2022-09-13T09:25:39+0300</td>\n    </tr>\n    <tr>\n      <th>4</th>\n      <td>69957849</td>\n      <td>Стажёр в отдел документооборота SberDevices</td>\n      <td>&lt;p&gt;Цифровые поверхности Салют (SberDevices) — ...</td>\n      <td>[{'name': 'Работа с большим объемом информации...</td>\n      <td>2022-09-19T11:20:47+0300</td>\n    </tr>\n    <tr>\n      <th>...</th>\n      <td>...</td>\n      <td>...</td>\n      <td>...</td>\n      <td>...</td>\n      <td>...</td>\n    </tr>\n    <tr>\n      <th>1136</th>\n      <td>68787347</td>\n      <td>Старший клиентский менеджер</td>\n      <td>&lt;p&gt;Сбер — лучший работодатель России. У нас бо...</td>\n      <td>[{'name': 'Деловая переписка'}, {'name': 'Дело...</td>\n      <td>2022-09-19T09:10:17+0300</td>\n    </tr>\n    <tr>\n      <th>1137</th>\n      <td>67799537</td>\n      <td>Клиентский менеджер прямых продаж</td>\n      <td>&lt;p&gt;Сбер — лучший работодатель России. У нас бо...</td>\n      <td>[{'name': 'Проведение презентаций'}, {'name': ...</td>\n      <td>2022-09-19T09:11:17+0300</td>\n    </tr>\n    <tr>\n      <th>1138</th>\n      <td>67799534</td>\n      <td>Клиентский менеджер прямых продаж</td>\n      <td>&lt;p&gt;Сбер — лучший работодатель России. У нас бо...</td>\n      <td>[{'name': 'Проведение презентаций'}, {'name': ...</td>\n      <td>2022-09-19T09:11:16+0300</td>\n    </tr>\n    <tr>\n      <th>1139</th>\n      <td>69364984</td>\n      <td>Клиентский менеджер прямых продаж</td>\n      <td>&lt;p&gt;Сбер — лучший работодатель России. У нас бо...</td>\n      <td>[{'name': 'Проведение презентаций'}, {'name': ...</td>\n      <td>2022-09-19T09:09:11+0300</td>\n    </tr>\n    <tr>\n      <th>1140</th>\n      <td>67799535</td>\n      <td>Клиентский менеджер прямых продаж</td>\n      <td>&lt;p&gt;Сбер — лучший работодатель России. У нас бо...</td>\n      <td>[{'name': 'Проведение презентаций'}, {'name': ...</td>\n      <td>2022-09-19T09:11:16+0300</td>\n    </tr>\n  </tbody>\n</table>\n<p>1141 rows × 5 columns</p>\n</div>"
     },
     "execution_count": 40,
     "metadata": {},
     "output_type": "execute_result"
    }
   ],
   "source": [
    "vdf"
   ],
   "metadata": {
    "collapsed": false,
    "pycharm": {
     "name": "#%%\n"
    }
   }
  },
  {
   "cell_type": "code",
   "execution_count": 49,
   "metadata": {
    "pycharm": {
     "name": "#%%\n"
    }
   },
   "outputs": [],
   "source": [
    "class DataFrameBeautifier:\n",
    "    def __init__(self, df):\n",
    "        self.df = df\n",
    "\n",
    "    def parse_skills(self):\n",
    "        pass\n",
    "\n",
    "    def check_datetime_published_at(self):\n",
    "        pass"
   ]
  },
  {
   "cell_type": "code",
   "execution_count": null,
   "metadata": {
    "pycharm": {
     "name": "#%%\n"
    }
   },
   "outputs": [],
   "source": [
    "class SkillsVisualizer:\n",
    "    pass"
   ]
  },
  {
   "cell_type": "code",
   "execution_count": null,
   "outputs": [],
   "source": [],
   "metadata": {
    "collapsed": false,
    "pycharm": {
     "name": "#%%\n"
    }
   }
  }
 ],
 "metadata": {
  "kernelspec": {
   "display_name": "Python 3",
   "language": "python",
   "name": "python3"
  },
  "language_info": {
   "codemirror_mode": {
    "name": "ipython",
    "version": 3
   },
   "file_extension": ".py",
   "mimetype": "text/x-python",
   "name": "python",
   "nbconvert_exporter": "python",
   "pygments_lexer": "ipython3",
   "version": "3.8.5"
  }
 },
 "nbformat": 4,
 "nbformat_minor": 4
}
