{
 "cells": [
  {
   "cell_type": "code",
   "execution_count": 2,
   "metadata": {
    "collapsed": true,
    "ExecuteTime": {
     "end_time": "2023-12-23T05:26:05.695049Z",
     "start_time": "2023-12-23T05:25:58.605492Z"
    }
   },
   "outputs": [],
   "source": [
    "# pip install selenium\n",
    "from tqdm.auto import tqdm\n",
    "from selenium import webdriver\n",
    "from selenium.webdriver.common.by import By"
   ]
  },
  {
   "cell_type": "code",
   "execution_count": 44,
   "outputs": [],
   "source": [
    "all_ids = []\n",
    "css_selector = '.styles__Ellipsis-sc-1fw79ul-0.jYMONF.styles__Child-sc-cx1nz2-0.styles__Primary-sc-cx1nz2-1.lmaBDB.kdslYa'\n",
    "driver = webdriver.Chrome()\n",
    "num_pages = 118\n",
    "for k in tqdm(range(0, num_pages)):\n",
    "    url = f\"https://наш.дом.рф/сервисы/каталог-новостроек/список-объектов/список?page={k}&limit=100&objStatus=0\"\n",
    "    driver.get(url)\n",
    "    driver.implicitly_wait(5)\n",
    "    ids = driver.find_elements(By.CSS_SELECTOR, css_selector);\n",
    "    for i in ids:\n",
    "        a = i.text\n",
    "        b = a.replace('ID дома: ', \"\")\n",
    "        if b != '':\n",
    "            all_ids.append(b)\n",
    "driver.close()"
   ],
   "metadata": {
    "collapsed": false,
    "ExecuteTime": {
     "end_time": "2023-12-23T07:53:00.844923Z",
     "start_time": "2023-12-23T07:53:00.841321Z"
    }
   }
  },
  {
   "cell_type": "code",
   "execution_count": 23,
   "outputs": [],
   "source": [
    "all_ids = list(set(all_ids))"
   ],
   "metadata": {
    "collapsed": false,
    "ExecuteTime": {
     "end_time": "2023-12-23T06:30:58.358208Z",
     "start_time": "2023-12-23T06:30:58.349709Z"
    }
   }
  }
 ],
 "metadata": {
  "kernelspec": {
   "display_name": "Python 3",
   "language": "python",
   "name": "python3"
  },
  "language_info": {
   "codemirror_mode": {
    "name": "ipython",
    "version": 2
   },
   "file_extension": ".py",
   "mimetype": "text/x-python",
   "name": "python",
   "nbconvert_exporter": "python",
   "pygments_lexer": "ipython2",
   "version": "2.7.6"
  }
 },
 "nbformat": 4,
 "nbformat_minor": 0
}
